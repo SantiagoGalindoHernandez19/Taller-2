{
 "cells": [
  {
   "cell_type": "code",
   "execution_count": null,
   "metadata": {},
   "outputs": [],
   "source": [
    "def es_magica(matriz):\n",
    "    suma_magica = sum(matriz[0]) #definimos lo que es una suma magica, igualando la matriz a cero\n",
    "    \n",
    "    for fila in matriz: #establecemos las filas\n",
    "        if sum(fila) != suma_magica:\n",
    "            return False\n",
    "    \n",
    "    for i in range(len(matriz)): #establecemos las columnas\n",
    "        if sum(matriz[j][i] for j in range(len(matriz))) != suma_magica:\n",
    "            return False\n",
    "    \n",
    "    if sum(matriz[i][i] for i in range(len(matriz))) != suma_magica: #establecemos la primera digonal \n",
    "        return False\n",
    "    \n",
    "    if sum(matriz[i][len(matriz)-1-i] for i in range(len(matriz))) != suma_magica: #establecemos la segunda diagonal\n",
    "        return False\n",
    "    \n",
    "    return True\n",
    "    # ya que todas las verificaciones son correctas, entos se determina que la matriz is magic mi dear teacher"
   ]
  }
 ],
 "metadata": {
  "language_info": {
   "name": "python"
  },
  "orig_nbformat": 4
 },
 "nbformat": 4,
 "nbformat_minor": 2
}

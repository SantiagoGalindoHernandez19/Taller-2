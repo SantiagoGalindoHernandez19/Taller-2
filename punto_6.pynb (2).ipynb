{
 "cells": [
  {
   "cell_type": "code",
   "execution_count": null,
   "metadata": {},
   "outputs": [],
   "source": [
    "def lista_sin_repetidos(lista):\n",
    "    \"\"\"\n",
    "    Determina si una lista no contiene elementos repetidos.\n",
    "\n",
    "    Args:\n",
    "        lista (list): Lista de elementos.\n",
    "\n",
    "    Returns:\n",
    "        bool: True si no hay elementos repetidos en la lista, False en caso contrario.\n",
    "    \"\"\"\n",
    "    # Crear un conjunto a partir de la lista para eliminar los elementos repetidos.\n",
    "    conjunto = set(lista)\n",
    "    # Si el tamaño del conjunto es igual al tamaño de la lista, entonces no hay elementos repetidos.\n",
    "    return len(conjunto) == len(lista)\n",
    "\n",
    "# Ejemplo de uso:\n",
    "lista1 = [1, 2, 3, 4, 5]\n",
    "lista2 = [1, 2, 3, 3, 4, 5]\n",
    "print(lista_sin_repetidos(lista1))\n",
    "print(lista_sin_repetidos(lista2))\n"
   ]
  },
  {
   "attachments": {},
   "cell_type": "markdown",
   "metadata": {},
   "source": [
    "La función lista_sin_repetidos recibe como parámetro una lista de elementos. Se crea un conjunto a partir de la lista, lo cual elimina automáticamente los elementos repetidos, ya que un conjunto no puede tener elementos duplicados. Luego, se compara el tamaño del conjunto con el tamaño de la lista original. Si son iguales, entonces no hay elementos repetidos en la lista, y se devuelve True. En caso contrario, se devuelve False.\n"
   ]
  }
 ],
 "metadata": {
  "language_info": {
   "name": "python"
  },
  "orig_nbformat": 4
 },
 "nbformat": 4,
 "nbformat_minor": 2
}

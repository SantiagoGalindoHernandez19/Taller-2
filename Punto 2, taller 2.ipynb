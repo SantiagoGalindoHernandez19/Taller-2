{
 "cells": [
  {
   "cell_type": "code",
   "execution_count": null,
   "metadata": {},
   "outputs": [],
   "source": [
    "def SepararDigitos(X): # Definimos la funcion \n",
    "    Entero = int(X)  # Numero entero \n",
    "    Decimal = abs(X - Entero) # Valor absoluto con la operacion\n",
    "\n",
    "    digitos_entera = [int(digito) for digito in str(Entero)] # Recorremos digito por digito\n",
    "    digitos_decimal = [int(digito) for digito in str(Decimal)[2:]]\n",
    "\n",
    "    return digitos_entera, digitos_decimal #Retornamos los digitos\n",
    "\n",
    "\n",
    "\n",
    "c = float(input(\"Ingresar un número flotante: \")) # Solicitamos numero flotante\n",
    "\n",
    "\n",
    "digitos_entera, digitos_decimal = SepararDigitos(c)\n",
    "\n",
    "\n",
    "print(\"Dígitos de la parte entera:\", digitos_entera) #Imprimimos los resultados\n",
    "print(\"Dígitos de la parte decimal:\", digitos_decimal)\n"
   ]
  }
 ],
 "metadata": {
  "kernelspec": {
   "display_name": "Python 3",
   "language": "python",
   "name": "python3"
  },
  "language_info": {
   "name": "python",
   "version": "3.11.2"
  },
  "orig_nbformat": 4
 },
 "nbformat": 4,
 "nbformat_minor": 2
}

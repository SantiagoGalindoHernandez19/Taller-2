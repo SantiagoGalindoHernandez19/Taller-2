{
 "cells": [
  {
   "cell_type": "code",
   "execution_count": null,
   "metadata": {},
   "outputs": [],
   "source": [
    "def elementos_en_primera_lista(lista1, lista2):\n",
    "    \"\"\"\n",
    "    Determina los elementos de la primera lista que no están en la segunda lista.\n",
    "\n",
    "    Args:\n",
    "        lista1 (list): Primera lista de elementos.\n",
    "        lista2 (list): Segunda lista de elementos.\n",
    "\n",
    "    Returns:\n",
    "        list: Lista con los elementos de la primera lista que no están en la segunda lista.\n",
    "    \"\"\"\n",
    "    # Crear un conjunto a partir de la segunda lista para hacer más eficiente la búsqueda.\n",
    "    conjunto2 = set(lista2)\n",
    "    # Crear una lista vacía para almacenar los elementos de la primera lista que no están en la segunda lista.\n",
    "    resultado = []\n",
    "    # Recorrer la primera lista y agregar a la lista de resultado los elementos que no estén en el conjunto2.\n",
    "    for elemento in lista1:\n",
    "        if elemento not in conjunto2:\n",
    "            resultado.append(elemento)\n",
    "    return resultado\n",
    "\n",
    "lista1 = [1, 2, 'Si', 4, 21]\n",
    "lista2 = [3, 4, 5, 21, 6,'No', 7,]\n",
    "elementos = elementos_en_primera_lista(lista1, lista2)\n",
    "print(elementos) \n"
   ]
  },
  {
   "attachments": {},
   "cell_type": "markdown",
   "metadata": {},
   "source": [
    "\n",
    "La función elementos_en_primera_lista recibe como parámetros dos listas de elementos. Se crea un conjunto a partir de la segunda lista para hacer más eficiente la búsqueda de elementos. Luego, se recorre la primera lista y se agrega a una lista de resultados los elementos que no estén en el conjunto2. Finalmente, se devuelve la lista de resultados."
   ]
  }
 ],
 "metadata": {
  "language_info": {
   "name": "python"
  },
  "orig_nbformat": 4
 },
 "nbformat": 4,
 "nbformat_minor": 2
}

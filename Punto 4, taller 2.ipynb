{
 "cells": [
  {
   "cell_type": "code",
   "execution_count": null,
   "metadata": {},
   "outputs": [],
   "source": [
    "import math #establecemos el termino math para mas adelante poder usar el coseno y el factorial\n",
    "\n",
    "def aproximacion_coseno(x, n):#segun la formula de la serie de tailor los equivalentes a la funcion son el coseno de x, n aproximandolo lo mas posible a cero\n",
    "    aproximacion = 0.0\n",
    "    \n",
    "    for i in range(n): \n",
    "        termino = ((-1) ** i) * (x ** (2 * i)) / math.factorial(2 * i) #aca establecemos la formula de la funcion destacada en el punto 4 del taller\n",
    "        aproximacion += termino\n",
    "    \n",
    "    diferencia = abs(math.cos(x) - aproximacion)\n",
    "    \n",
    "    return aproximacion, diferencia\n",
    "x = 0.5  # Valor de x que es aproximacion de cero\n",
    "porcentajes = [10, 1, 0.1, 0.001]  # Porcentajes deseados\n",
    "\n",
    "for porcentaje in porcentajes:\n",
    "    n = 1  # definimos el término\n",
    "    diferencia = 100  # se define una diferencia mayor al porcentaje deseado\n",
    "    \n",
    "    while diferencia > porcentaje / 100.0: #establecemos los terminos para el error de la aproximacion, es decir la diferencia de la aproximacion\n",
    "        aproximacion, diferencia = aproximacion_coseno(x, n)\n",
    "        n += 1\n",
    "    \n",
    "    print(\"Para un error del {}%, se necesitan {} términos.\".format(porcentaje, n))"
   ]
  }
 ],
 "metadata": {
  "language_info": {
   "name": "python"
  },
  "orig_nbformat": 4
 },
 "nbformat": 4,
 "nbformat_minor": 2
}
